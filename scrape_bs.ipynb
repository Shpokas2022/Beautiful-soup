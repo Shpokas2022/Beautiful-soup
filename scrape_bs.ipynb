{
 "cells": [
  {
   "cell_type": "code",
   "execution_count": 1,
   "metadata": {},
   "outputs": [],
   "source": [
    "from bs4 import BeautifulSoup"
   ]
  },
  {
   "cell_type": "code",
   "execution_count": 3,
   "metadata": {},
   "outputs": [],
   "source": [
    "html = \"\"\"\n",
    "<!DOCTYPE html>\n",
    "<html lang=\"en\">\n",
    "<head>\n",
    "  <meta charset=\"UTF-8\">\n",
    "  <title>First HTML Page</title>\n",
    "</head>\n",
    "<body>\n",
    "  <div id=\"first\">\n",
    "    <h3 data-example=\"yes\">hi</h3>\n",
    "    <p>more text.</p>\n",
    "  </div>\n",
    "  <ol>\n",
    "    <li class=\"special\">This list item is special.</li>\n",
    "    <li class=\"special\">This list item is also special.</li>\n",
    "    <li>This list item is not special.</li>\n",
    "  </ol>\n",
    "  <div data-example=\"yes\">bye</div>\n",
    "</body>\n",
    "</html>\n",
    "\"\"\"\n"
   ]
  },
  {
   "cell_type": "code",
   "execution_count": null,
   "metadata": {},
   "outputs": [],
   "source": [
    "soup = BeautifulSoup(html, 'html.parser')\n",
    "# techniškai mūsų html kodas tampa objektu\n",
    "soup"
   ]
  },
  {
   "cell_type": "code",
   "execution_count": 5,
   "metadata": {},
   "outputs": [
    {
     "name": "stdout",
     "output_type": "stream",
     "text": [
      "<h3 data-example=\"yes\">hi</h3>\n"
     ]
    }
   ],
   "source": [
    "print(soup.body.h3)"
   ]
  },
  {
   "cell_type": "code",
   "execution_count": 6,
   "metadata": {},
   "outputs": [
    {
     "name": "stdout",
     "output_type": "stream",
     "text": [
      "<div id=\"first\">\n",
      "<h3 data-example=\"yes\">hi</h3>\n",
      "<p>more text.</p>\n",
      "</div>\n"
     ]
    }
   ],
   "source": [
    "print(soup.find('div'))"
   ]
  },
  {
   "cell_type": "code",
   "execution_count": 7,
   "metadata": {},
   "outputs": [
    {
     "name": "stdout",
     "output_type": "stream",
     "text": [
      "[<div id=\"first\">\n",
      "<h3 data-example=\"yes\">hi</h3>\n",
      "<p>more text.</p>\n",
      "</div>, <div data-example=\"yes\">bye</div>]\n"
     ]
    }
   ],
   "source": [
    "print(soup.find_all('div'))"
   ]
  },
  {
   "cell_type": "code",
   "execution_count": 8,
   "metadata": {},
   "outputs": [
    {
     "name": "stdout",
     "output_type": "stream",
     "text": [
      "<div id=\"first\">\n",
      "<h3 data-example=\"yes\">hi</h3>\n",
      "<p>more text.</p>\n",
      "</div>\n",
      "<div data-example=\"yes\">bye</div>\n"
     ]
    }
   ],
   "source": [
    "# aukščiau gavome sąrašą, kurį galime iteruotis\n",
    "for element in soup.find_all('div'):\n",
    "    print(element)"
   ]
  },
  {
   "cell_type": "code",
   "execution_count": 9,
   "metadata": {},
   "outputs": [
    {
     "data": {
      "text/plain": [
       "[<li class=\"special\">This list item is special.</li>,\n",
       " <li class=\"special\">This list item is also special.</li>]"
      ]
     },
     "execution_count": 9,
     "metadata": {},
     "output_type": "execute_result"
    }
   ],
   "source": [
    "# Galima filtruotis pagal css klasę\n",
    "soup.find_all(class_=\"special\")"
   ]
  },
  {
   "cell_type": "code",
   "execution_count": 10,
   "metadata": {},
   "outputs": [
    {
     "data": {
      "text/plain": [
       "[<h3 data-example=\"yes\">hi</h3>, <div data-example=\"yes\">bye</div>]"
      ]
     },
     "execution_count": 10,
     "metadata": {},
     "output_type": "execute_result"
    }
   ],
   "source": [
    "soup.find_all(attrs={'data-example': 'yes'})"
   ]
  },
  {
   "cell_type": "code",
   "execution_count": 11,
   "metadata": {},
   "outputs": [
    {
     "data": {
      "text/plain": [
       "[<div id=\"first\">\n",
       " <h3 data-example=\"yes\">hi</h3>\n",
       " <p>more text.</p>\n",
       " </div>,\n",
       " <div data-example=\"yes\">bye</div>]"
      ]
     },
     "execution_count": 11,
     "metadata": {},
     "output_type": "execute_result"
    }
   ],
   "source": [
    "soup.select('div')"
   ]
  },
  {
   "cell_type": "code",
   "execution_count": 12,
   "metadata": {},
   "outputs": [
    {
     "data": {
      "text/plain": [
       "[<div id=\"first\">\n",
       " <h3 data-example=\"yes\">hi</h3>\n",
       " <p>more text.</p>\n",
       " </div>]"
      ]
     },
     "execution_count": 12,
     "metadata": {},
     "output_type": "execute_result"
    }
   ],
   "source": [
    "soup.select('#first')"
   ]
  },
  {
   "cell_type": "code",
   "execution_count": 13,
   "metadata": {},
   "outputs": [
    {
     "data": {
      "text/plain": [
       "[<li class=\"special\">This list item is special.</li>,\n",
       " <li class=\"special\">This list item is also special.</li>]"
      ]
     },
     "execution_count": 13,
     "metadata": {},
     "output_type": "execute_result"
    }
   ],
   "source": [
    "soup.select('.special')"
   ]
  },
  {
   "cell_type": "code",
   "execution_count": 14,
   "metadata": {},
   "outputs": [
    {
     "data": {
      "text/plain": [
       "[<h3 data-example=\"yes\">hi</h3>, <div data-example=\"yes\">bye</div>]"
      ]
     },
     "execution_count": 14,
     "metadata": {},
     "output_type": "execute_result"
    }
   ],
   "source": [
    "# css elementai ie6komi lau=tiniuose skliaustuose\n",
    "soup.select('[data-example]')"
   ]
  },
  {
   "cell_type": "markdown",
   "metadata": {},
   "source": [
    "# Teksto gaudymas"
   ]
  },
  {
   "cell_type": "code",
   "execution_count": 15,
   "metadata": {},
   "outputs": [
    {
     "data": {
      "text/plain": [
       "[<li class=\"special\">This list item is special.</li>,\n",
       " <li class=\"special\">This list item is also special.</li>,\n",
       " <li>This list item is not special.</li>]"
      ]
     },
     "execution_count": 15,
     "metadata": {},
     "output_type": "execute_result"
    }
   ],
   "source": [
    "# Pasiimame norim1 elemeną ir susidedame į kintamąjį\n",
    "ol_li = soup.select('ol li')\n",
    "ol_li"
   ]
  },
  {
   "cell_type": "code",
   "execution_count": 16,
   "metadata": {},
   "outputs": [
    {
     "data": {
      "text/plain": [
       "'This list item is special.'"
      ]
     },
     "execution_count": 16,
     "metadata": {},
     "output_type": "execute_result"
    }
   ],
   "source": [
    "ol_li[0].get_text()"
   ]
  },
  {
   "cell_type": "code",
   "execution_count": 17,
   "metadata": {},
   "outputs": [
    {
     "name": "stdout",
     "output_type": "stream",
     "text": [
      "This list item is special.\n",
      "This list item is also special.\n",
      "This list item is not special.\n"
     ]
    }
   ],
   "source": [
    "# iteruojame\n",
    "for item in ol_li:\n",
    "    print(item.get_text())"
   ]
  },
  {
   "cell_type": "code",
   "execution_count": 18,
   "metadata": {},
   "outputs": [
    {
     "data": {
      "text/plain": [
       "['This list item is special.',\n",
       " 'This list item is also special.',\n",
       " 'This list item is not special.']"
      ]
     },
     "execution_count": 18,
     "metadata": {},
     "output_type": "execute_result"
    }
   ],
   "source": [
    "items = []\n",
    "for item in ol_li:\n",
    "    items.append(item.get_text())\n",
    "items"
   ]
  },
  {
   "cell_type": "code",
   "execution_count": 19,
   "metadata": {},
   "outputs": [
    {
     "name": "stdout",
     "output_type": "stream",
     "text": [
      "hi\n",
      "bye\n"
     ]
    }
   ],
   "source": [
    "hi_buy = soup.select('[data-example]')\n",
    "for item in hi_buy:\n",
    "    print(item.get_text())"
   ]
  },
  {
   "cell_type": "code",
   "execution_count": 20,
   "metadata": {},
   "outputs": [
    {
     "name": "stdout",
     "output_type": "stream",
     "text": [
      "{'data-example': 'yes'}\n",
      "{'data-example': 'yes'}\n"
     ]
    }
   ],
   "source": [
    "# Atsispausdiname visus atributus\n",
    "for item in hi_buy:\n",
    "    print(item.attrs)"
   ]
  },
  {
   "cell_type": "code",
   "execution_count": 21,
   "metadata": {},
   "outputs": [
    {
     "name": "stdout",
     "output_type": "stream",
     "text": [
      "yes\n",
      "yes\n"
     ]
    }
   ],
   "source": [
    "for item in hi_buy:\n",
    "    print(item.attrs['data-example'])"
   ]
  },
  {
   "cell_type": "code",
   "execution_count": 22,
   "metadata": {},
   "outputs": [
    {
     "name": "stdout",
     "output_type": "stream",
     "text": [
      "h3 yes\n",
      "div yes\n"
     ]
    }
   ],
   "source": [
    "# išsitraukiame iki atskyro elemento\n",
    "for item in hi_buy:\n",
    "    print(item.name, item.attrs['data-example'])"
   ]
  },
  {
   "cell_type": "code",
   "execution_count": 23,
   "metadata": {},
   "outputs": [
    {
     "data": {
      "text/plain": [
       "'first'"
      ]
     },
     "execution_count": 23,
     "metadata": {},
     "output_type": "execute_result"
    }
   ],
   "source": [
    "soup.find('div').attrs[\"id\"]"
   ]
  },
  {
   "cell_type": "markdown",
   "metadata": {},
   "source": [
    "# Navigacija tarp elementų"
   ]
  },
  {
   "cell_type": "code",
   "execution_count": 24,
   "metadata": {},
   "outputs": [
    {
     "data": {
      "text/plain": [
       "['\\n', <h3 data-example=\"yes\">hi</h3>, '\\n', <p>more text.</p>, '\\n']"
      ]
     },
     "execution_count": 24,
     "metadata": {},
     "output_type": "execute_result"
    }
   ],
   "source": [
    "# Norime gauti elemeto turinį. Tuo būdu gali pažiūrėti realų to elemento turinį ir \n",
    "# pasinagrinėti jį. Pritaikiti galima kodo optimuzavimui, rašant pyton kodą\n",
    "soup.div.contents"
   ]
  },
  {
   "cell_type": "code",
   "execution_count": 25,
   "metadata": {},
   "outputs": [
    {
     "data": {
      "text/plain": [
       "<li class=\"special\">This list item is special.</li>"
      ]
     },
     "execution_count": 25,
     "metadata": {},
     "output_type": "execute_result"
    }
   ],
   "source": [
    "li = soup.find('li')\n",
    "li"
   ]
  },
  {
   "cell_type": "code",
   "execution_count": 26,
   "metadata": {},
   "outputs": [
    {
     "data": {
      "text/plain": [
       "['\\n',\n",
       " <li class=\"special\">This list item is special.</li>,\n",
       " '\\n',\n",
       " <li class=\"special\">This list item is also special.</li>,\n",
       " '\\n',\n",
       " <li>This list item is not special.</li>,\n",
       " '\\n']"
      ]
     },
     "execution_count": 26,
     "metadata": {},
     "output_type": "execute_result"
    }
   ],
   "source": [
    "soup.find('ol').contents"
   ]
  },
  {
   "cell_type": "code",
   "execution_count": 27,
   "metadata": {},
   "outputs": [
    {
     "data": {
      "text/plain": [
       "<li class=\"special\">This list item is also special.</li>"
      ]
     },
     "execution_count": 27,
     "metadata": {},
     "output_type": "execute_result"
    }
   ],
   "source": [
    "li.next_sibling.next_sibling"
   ]
  },
  {
   "cell_type": "code",
   "execution_count": 28,
   "metadata": {},
   "outputs": [
    {
     "data": {
      "text/plain": [
       "'\\n'"
      ]
     },
     "execution_count": 28,
     "metadata": {},
     "output_type": "execute_result"
    }
   ],
   "source": [
    "li.next_sibling"
   ]
  },
  {
   "cell_type": "code",
   "execution_count": 29,
   "metadata": {},
   "outputs": [
    {
     "data": {
      "text/plain": [
       "'This list item is special.'"
      ]
     },
     "execution_count": 29,
     "metadata": {},
     "output_type": "execute_result"
    }
   ],
   "source": [
    "li.next_element"
   ]
  },
  {
   "cell_type": "code",
   "execution_count": 30,
   "metadata": {},
   "outputs": [
    {
     "data": {
      "text/plain": [
       "<body>\n",
       "<div id=\"first\">\n",
       "<h3 data-example=\"yes\">hi</h3>\n",
       "<p>more text.</p>\n",
       "</div>\n",
       "<ol>\n",
       "<li class=\"special\">This list item is special.</li>\n",
       "<li class=\"special\">This list item is also special.</li>\n",
       "<li>This list item is not special.</li>\n",
       "</ol>\n",
       "<div data-example=\"yes\">bye</div>\n",
       "</body>"
      ]
     },
     "execution_count": 30,
     "metadata": {},
     "output_type": "execute_result"
    }
   ],
   "source": [
    "li.parent.parent"
   ]
  },
  {
   "cell_type": "markdown",
   "metadata": {},
   "source": [
    "# Navigacija per metodus"
   ]
  },
  {
   "cell_type": "code",
   "execution_count": 31,
   "metadata": {},
   "outputs": [
    {
     "data": {
      "text/plain": [
       "[<li class=\"special\">This list item is also special.</li>,\n",
       " <li>This list item is not special.</li>]"
      ]
     },
     "execution_count": 31,
     "metadata": {},
     "output_type": "execute_result"
    }
   ],
   "source": [
    "li.find_next_siblings()"
   ]
  },
  {
   "cell_type": "code",
   "execution_count": 32,
   "metadata": {},
   "outputs": [
    {
     "data": {
      "text/plain": [
       "[]"
      ]
     },
     "execution_count": 32,
     "metadata": {},
     "output_type": "execute_result"
    }
   ],
   "source": [
    "li.find_next_siblings(class_='not-special')"
   ]
  },
  {
   "cell_type": "code",
   "execution_count": 33,
   "metadata": {},
   "outputs": [
    {
     "data": {
      "text/plain": [
       "'first'"
      ]
     },
     "execution_count": 33,
     "metadata": {},
     "output_type": "execute_result"
    }
   ],
   "source": [
    "li.find_parent().find_previous_sibling().attrs['id']"
   ]
  },
  {
   "cell_type": "code",
   "execution_count": 34,
   "metadata": {},
   "outputs": [
    {
     "data": {
      "text/plain": [
       "'yes'"
      ]
     },
     "execution_count": 34,
     "metadata": {},
     "output_type": "execute_result"
    }
   ],
   "source": [
    "# \"Yes\" elemento išgavimas\n",
    "soup.body.next_element.next_element.next_element.next_element.attrs['data-example']"
   ]
  },
  {
   "cell_type": "code",
   "execution_count": 1,
   "metadata": {},
   "outputs": [],
   "source": [
    "import requests\n"
   ]
  },
  {
   "cell_type": "code",
   "execution_count": 2,
   "metadata": {},
   "outputs": [
    {
     "data": {
      "text/plain": [
       "b'<!DOCTYPE html><html lang=\"lt\" dir=\"ltr\"><head><style nonce=\"VOA8L5GgndreG72HMUjAiQ\">\\na, a:link, a:visited, a:active, a:hover {\\n  color: #1a73e8;\\n  text-decoration: none;\\n}\\nbody {\\n  font-family: Roboto,RobotoDraft,Helvetica,Arial,sans-serif;\\n  text-align: center;\\n  -ms-text-size-adjust: 100%;\\n  -moz-text-size-adjust: 100%;\\n  -webkit-text-size-adjust: 100%;\\n}\\n.box {\\n  border: 1px solid #dadce0;\\n  box-sizing: border-box;\\n  border-radius: 8px;\\n  margin: 24px auto 5px auto;\\n  max-width: 800px;\\n  padding: 24px;\\n}\\nh1 {\\n  color: #2c2c2c;\\n  font-size: 24px;\\n  hyphens: auto;\\n  margin: 24px 0;\\n}\\n.icaCallout {\\n  background-color: #f8f9fa;\\n  padding: 12px 16px;\\n  border-radius: 10px;\\n  margin-bottom: 10px;\\n}\\np, .sub, .contentText, .icaCallout {\\n  color: #5f6368;;\\n  font-size: 14px;\\n  line-height: 20px;\\n  letter-spacing: 0.2px;\\n  text-align: left;\\n}\\n.signin {\\n  text-align: right;\\n}\\n.saveButtonContainer,\\n.saveButtonContainerNarrowScreen {\\n  width: 100%;\\n  margin-top: 12px;\\n}\\n.customButtonContainer {\\n  height: 20px;\\n  padding: 8px 0;\\n  margin-top: 8px;\\n}\\n.navigationCtasYoutube {\\n  text-align: right;\\n}\\na.button {\\n  color: #fff;\\n}\\na.hairlinebutton,\\na.nolinebutton{\\n  color: #1a73e8;\\n}\\n.navigationCtasYoutube a.hairlinebutton {\\n  border-color: #1a73e8;\\n}\\nbutton, .button {\\n  background-color: #1a73e8;\\n  border: none;\\n  color: #fff;\\n}\\ninput.button {\\n  -webkit-appearance: none;\\n}\\n.basebutton {\\n  border-radius: 4px;\\n  cursor: pointer;\\n  font-family: Roboto,RobotoDraft,Helvetica,Arial,sans-serif;\\n  font-size: 14px;\\n  font-weight: 500;\\n  height: 36px;\\n  margin: 12px 4px 0;\\n  padding: 8px 24px;\\n}\\n.hairlinebutton {\\n  background-color: #fff;\\n  border-width: 1px;\\n  border-color: #dadce0;\\n  border-style: solid;\\n  max-height: 15px;\\n}\\n.error {\\n  border: 2px solid #d93025;\\n  border-radius: 5px;\\n  color: #d93025;\\n  margin: auto;\\n  padding: 5px;\\n}\\n.box a:hover, .detailspage a:hover {\\n  text-decoration: underline;\\n}\\n.footer {\\n  margin-top: 16px;\\n}\\n.footer a {\\n  margin-left: 24px;\\n  white-space: nowrap;\\n}\\n.footer a, .footer select, .footer input {\\n  color: #757575;\\n  font-size: 12px;\\n}\\n.languagepicker {\\n  display: inline-flex;\\n  margin: 2px 0;\\n}\\n#languageform,\\n#languageselect {\\n  margin: 0 2px;\\n}\\n#languageselect {\\n  color: #757575;\\n}\\n.detailspage {\\n  margin: 24px auto 0 auto;\\n  max-width: 700px;\\n}\\n.detailspage h1, .detailspage h2 {\\n  font-size: 22px\\n}\\n.setting {\\n  border: 1px solid #dadce0;\\n  box-sizing: border-box;\\n  border-radius: 8px;\\n  margin-bottom: 11px;\\n  padding: 24px 24px 20px 24px;\\n  text-align: right;\\n}\\n.sub {\\n  padding: 24px 24px 20px 24px;\\n}\\nhr {\\n  margin: 12px -24px 12px;\\n  border: 0;\\n  border-top: 1px solid #dadce0;\\n}\\nfieldset {\\n  border: none;\\n  padding: 0;\\n}\\nlabel {\\n  margin: 24px;\\n}\\ntd {\\n  vertical-align: top;\\n}\\n.setting h2, .setting h3, h4 {\\n  color: #3c4043;\\n  margin: 0;\\n  text-align: left;\\n}\\n.yt-text {\\n  color: #5f6368;\\n  font-size: 14px;\\n  font-weight: 300;\\n}\\n.productLogoContainer {\\n  margin: auto;\\n  max-width: 360px;\\n}\\n\\n/** Narrow screen (for example a mobile device). */\\n@media only screen and (max-width: 480px) {\\n  body {\\n    margin: 18px 14px;\\n  }\\n  .footer form {\\n    margin-bottom: 3px;\\n  }\\n  .imgContainer {\\n    min-width: 96px;\\n  }\\n  button, .button {\\n    width:100%;\\n  }\\n  .basebutton {\\n    margin: 12px 0 0;\\n  }\\n  .hideOnSmallWidth {\\n    display: none;\\n  }\\n  .saveButtonContainerNarrowScreen {\\n    display: inline-block;\\n  }\\n  .saveButtonContainer {\\n    display: none;\\n  }\\n  .navigationCtasYoutube a.hairlinebutton {\\n    display: block;\\n    text-align: center;\\n  }\\n}\\n\\n@media only screen and (max-width: 380px) {\\n  .imgContainer {\\n    min-width: 72px;\\n  }\\n}\\n\\n/** Normal/non-narrow screen. */\\n@media not screen and (max-width: 480px) {\\n  body {\\n    margin: 18px 25px;\\n  }\\n  .footer form {\\n    display: inline;\\n  }\\n  .imgContainer {\\n    width: 51%;\\n  }\\n  button, .button {\\n    width: auto;\\n  }\\n  .searchButton {\\n    min-width: 182px;\\n  }\\n  .hideOnNormalWidth {\\n    display: none;\\n  }\\n  .saveButtonContainer {\\n    display: inline-block;\\n  }\\n  .saveButtonContainerNarrowScreen {\\n    display: none;\\n  }\\n}\\n</style><title>Prie\\xc5\\xa1 pereidami \\xc4\\xaf \\xe2\\x80\\x9eGoogle\\xe2\\x80\\x9c paie\\xc5\\xa1k\\xc4\\x85</title><meta name=\"viewport\" content=\"initial-scale=1, maximum-scale=5, width=device-width\"><link rel=\"shortcut icon\" href=\"//www.google.com/favicon.ico\"></head><body><div class=\"signin\"><a href=\"https://accounts.google.com/ServiceLogin?hl=lt&amp;continue=https://www.google.com/&amp;gae=cb-none\" class=\"basebutton hairlinebutton\">Prisijunkite</a></div><div class=\"box\"><img src=\"//www.gstatic.com/images/branding/googlelogo/1x/googlelogo_color_68x28dp.png\" srcset=\"//www.gstatic.com/images/branding/googlelogo/2x/googlelogo_color_68x28dp.png 2x\" width=\"68\" height=\"28\" alt=\"Google\"><h1>Prie\\xc5\\xa1 pereinant \\xc4\\xaf \\xe2\\x80\\x9eGoogle\\xe2\\x80\\x9c</h1><div class=\"contentText\">Naudojame <a href=\"https://policies.google.com/technologies/cookies?hl=lt&utm_source=ucb\" target=\"_blank\">slapukus</a> ir duomenis, kad gal\\xc4\\x97tume\\xe2\\x80\\xa6<ul><li>Teikti ir pri\\xc5\\xbei\\xc5\\xabr\\xc4\\x97ti \\xe2\\x80\\x9eGoogle\\xe2\\x80\\x9c paslaugas</li><li>Steb\\xc4\\x97ti triktis ir apsaugoti nuo \\xc5\\xa1lam\\xc5\\xa1to, apgaul\\xc4\\x97s bei piktnaud\\xc5\\xbeiavimo</li><li>\\xc4\\xaevertinti auditorij\\xc5\\xb3 \\xc4\\xafsitraukim\\xc4\\x85 bei svetaini\\xc5\\xb3 statistik\\xc4\\x85, kad b\\xc5\\xabt\\xc5\\xb3 galima suprasti, kaip naudojamos m\\xc5\\xabs\\xc5\\xb3 paslaugos, ir gerinti j\\xc5\\xb3 kokyb\\xc4\\x99</li></ul>Jei pasirinksite \\xe2\\x80\\x9ePriimti visk\\xc4\\x85\\xe2\\x80\\x9c, taip pat naudosime slapukus ir duomenis, kad gal\\xc4\\x97tume\\xe2\\x80\\xa6<ul><li>Kurti ir tobulinti naujas paslaugas</li><li>Teikti skelbimus ir \\xc4\\xafvertinti j\\xc5\\xb3 efektyvum\\xc4\\x85</li><li>Rodyti suasmenint\\xc4\\x85 turin\\xc4\\xaf, atsi\\xc5\\xbevelgiant \\xc4\\xaf j\\xc5\\xabs\\xc5\\xb3 nustatymus</li><li>Rodyti suasmenintus skelbimus, atsi\\xc5\\xbevelgiant \\xc4\\xaf j\\xc5\\xabs\\xc5\\xb3 nustatymus</li></ul><div>Jei pasirinksite \\xe2\\x80\\x9eAtmesti visk\\xc4\\x85\\xe2\\x80\\x9c, slapuk\\xc5\\xb3 \\xc5\\xa1iais papildomais tikslais nenaudosime.</div><br><div>Nesuasmenintam turiniui turi \\xc4\\xaftakos tokie dalykai kaip turinys, kur\\xc4\\xaf tuo metu per\\xc5\\xbei\\xc5\\xabrite, veikla per j\\xc5\\xabs\\xc5\\xb3 aktyvi\\xc4\\x85 paie\\xc5\\xa1kos seans\\xc4\\x85 ir j\\xc5\\xabs\\xc5\\xb3 vietov\\xc4\\x97. Nesuasmenintiems skelbimams turi \\xc4\\xaftakos turinys, kur\\xc4\\xaf tuo metu per\\xc5\\xbei\\xc5\\xabrite, ir j\\xc5\\xabs\\xc5\\xb3 bendroji vietov\\xc4\\x97s informacija. Suasmenintas turinys ir skelbimai taip pat gali apimti aktualesnius rezultatus, rekomendacijas ir pritaikytus skelbimus pagal ankstesn\\xc4\\x99 veikl\\xc4\\x85 i\\xc5\\xa1 \\xc5\\xa1ios nar\\xc5\\xa1ykl\\xc4\\x97s, pvz., ankstesnes \\xe2\\x80\\x9eGoogle\\xe2\\x80\\x9c paie\\xc5\\xa1kas. Taip pat naudojame slapukus ir duomenis, siekdami pritaikyti funkcijas pagal am\\xc5\\xbei\\xc5\\xb3 (jei taikoma).</div><br>Pasirinkite \\xe2\\x80\\x9eDaugiau parink\\xc4\\x8di\\xc5\\xb3\\xe2\\x80\\x9c, jei norite matyti papildom\\xc4\\x85 informacij\\xc4\\x85, \\xc4\\xafskaitant i\\xc5\\xa1sami\\xc4\\x85 informacij\\xc4\\x85 apie privatumo nustatym\\xc5\\xb3 valdym\\xc4\\x85. Be to, bet kada galite apsilankyti adresu g.co/privacytools.</div><div class=\"saveButtonContainer\"><form action=\"https://consent.google.com/save\" method=\"POST\" style=\"display:inline;\"><input type=\"hidden\" name=\"bl\" value=\"boq_identityfrontenduiserver_20221025.05_p0\"><input type=\"hidden\" name=\"x\" value=\"8\"><input type=\"hidden\" name=\"gl\" value=\"LT\"><input type=\"hidden\" name=\"m\" value=\"0\"><input type=\"hidden\" name=\"pc\" value=\"shp\"><input type=\"hidden\" name=\"continue\" value=\"https://www.google.com/\"><input type=\"hidden\" name=\"hl\" value=\"lt\"><input type=\"hidden\" name=\"uxe\" value=\"none\"><input type=\"hidden\" name=\"set_eom\" value=\"true\"><input type=\"submit\" value=\"Atmesti visk\\xc4\\x85\" class=\"basebutton button searchButton\" aria-label=\"Atmesti visk\\xc4\\x85\"/></form><form action=\"https://consent.google.com/save\" method=\"POST\" style=\"display:inline;\"><input type=\"hidden\" name=\"bl\" value=\"boq_identityfrontenduiserver_20221025.05_p0\"><input type=\"hidden\" name=\"x\" value=\"8\"><input type=\"hidden\" name=\"gl\" value=\"LT\"><input type=\"hidden\" name=\"m\" value=\"0\"><input type=\"hidden\" name=\"pc\" value=\"shp\"><input type=\"hidden\" name=\"continue\" value=\"https://www.google.com/\"><input type=\"hidden\" name=\"hl\" value=\"lt\"><input type=\"hidden\" name=\"uxe\" value=\"none\"><input type=\"hidden\" name=\"set_eom\" value=\"false\"><input type=\"hidden\" name=\"set_sc\" value=\"true\"><input type=\"hidden\" name=\"set_aps\" value=\"true\"><input type=\"submit\" value=\"Priimti visk\\xc4\\x85\" class=\"basebutton button searchButton\" aria-label=\"Priimti visk\\xc4\\x85\"/></form></div><div class=\"saveButtonContainerNarrowScreen\"><form action=\"https://consent.google.com/save\" method=\"POST\" style=\"display:block;\"><input type=\"hidden\" name=\"bl\" value=\"boq_identityfrontenduiserver_20221025.05_p0\"><input type=\"hidden\" name=\"x\" value=\"8\"><input type=\"hidden\" name=\"gl\" value=\"LT\"><input type=\"hidden\" name=\"m\" value=\"0\"><input type=\"hidden\" name=\"pc\" value=\"shp\"><input type=\"hidden\" name=\"continue\" value=\"https://www.google.com/\"><input type=\"hidden\" name=\"hl\" value=\"lt\"><input type=\"hidden\" name=\"uxe\" value=\"none\"><input type=\"hidden\" name=\"set_eom\" value=\"false\"><input type=\"hidden\" name=\"set_sc\" value=\"true\"><input type=\"hidden\" name=\"set_aps\" value=\"true\"><input type=\"submit\" value=\"Priimti visk\\xc4\\x85\" class=\"basebutton button searchButton\" aria-label=\"Priimti visk\\xc4\\x85\"/></form><form action=\"https://consent.google.com/save\" method=\"POST\" style=\"display:block;\"><input type=\"hidden\" name=\"bl\" value=\"boq_identityfrontenduiserver_20221025.05_p0\"><input type=\"hidden\" name=\"x\" value=\"8\"><input type=\"hidden\" name=\"gl\" value=\"LT\"><input type=\"hidden\" name=\"m\" value=\"0\"><input type=\"hidden\" name=\"pc\" value=\"shp\"><input type=\"hidden\" name=\"continue\" value=\"https://www.google.com/\"><input type=\"hidden\" name=\"hl\" value=\"lt\"><input type=\"hidden\" name=\"uxe\" value=\"none\"><input type=\"hidden\" name=\"set_eom\" value=\"true\"><input type=\"submit\" value=\"Atmesti visk\\xc4\\x85\" class=\"basebutton button searchButton\" aria-label=\"Atmesti visk\\xc4\\x85\"/></form></div><div class=\"customButtonContainer\"><a href=\"https://consent.google.com/dl?continue=https://www.google.com/&amp;gl=LT&amp;hl=lt&amp;pc=shp&amp;uxe=none&amp;src=1\" class=\"basebutton nolinebutton\">Daugiau parink\\xc4\\x8di\\xc5\\xb3</a></div></div><div class=\"footer\"><form action=\"https://consent.google.com/ml\" method=\"get\"><select id=\"languageselect\" name=\"hl\"><option value=\"af\">Afrikaans</option><option value=\"az\">az\\xc9\\x99rbaycan</option><option value=\"bs\">bosanski</option><option value=\"ca\">catal\\xc3\\xa0</option><option value=\"cs\">\\xc4\\x8ce\\xc5\\xa1tina</option><option value=\"cy\">Cymraeg</option><option value=\"da\">Dansk</option><option value=\"de\">Deutsch</option><option value=\"et\">eesti</option><option value=\"en-GB\">English&nbsp;(United Kingdom)</option><option value=\"en\">English&nbsp;(United States)</option><option value=\"es\">Espa\\xc3\\xb1ol&nbsp;(Espa\\xc3\\xb1a)</option><option value=\"es-419\">Espa\\xc3\\xb1ol&nbsp;(Latinoam\\xc3\\xa9rica)</option><option value=\"eu\">euskara</option><option value=\"fil\">Filipino</option><option value=\"fr-CA\">Fran\\xc3\\xa7ais&nbsp;(Canada)</option><option value=\"fr\">Fran\\xc3\\xa7ais&nbsp;(France)</option><option value=\"ga\">Gaeilge</option><option value=\"gl\">galego</option><option value=\"hr\">Hrvatski</option><option value=\"id\">Indonesia</option><option value=\"zu\">isiZulu</option><option value=\"is\">\\xc3\\xadslenska</option><option value=\"it\">Italiano</option><option value=\"sw\">Kiswahili</option><option value=\"lv\">latvie\\xc5\\xa1u</option><option value=\"lt\" selected>lietuvi\\xc5\\xb3</option><option value=\"hu\">magyar</option><option value=\"ms\">Melayu</option><option value=\"nl\">Nederlands</option><option value=\"no\">norsk</option><option value=\"uz\">o\\xe2\\x80\\x98zbek</option><option value=\"pl\">polski</option><option value=\"pt-BR\">Portugu\\xc3\\xaas&nbsp;(Brasil)</option><option value=\"pt-PT\">Portugu\\xc3\\xaas&nbsp;(Portugal)</option><option value=\"ro\">rom\\xc3\\xa2n\\xc4\\x83</option><option value=\"sq\">shqip</option><option value=\"sk\">Sloven\\xc4\\x8dina</option><option value=\"sl\">sloven\\xc5\\xa1\\xc4\\x8dina</option><option value=\"sr-Latn\">srpski (latinica)</option><option value=\"fi\">Suomi</option><option value=\"sv\">Svenska</option><option value=\"vi\">Ti\\xe1\\xba\\xbfng Vi\\xe1\\xbb\\x87t</option><option value=\"tr\">T\\xc3\\xbcrk\\xc3\\xa7e</option><option value=\"el\">\\xce\\x95\\xce\\xbb\\xce\\xbb\\xce\\xb7\\xce\\xbd\\xce\\xb9\\xce\\xba\\xce\\xac</option><option value=\"be\">\\xd0\\xb1\\xd0\\xb5\\xd0\\xbb\\xd0\\xb0\\xd1\\x80\\xd1\\x83\\xd1\\x81\\xd0\\xba\\xd0\\xb0\\xd1\\x8f</option><option value=\"bg\">\\xd0\\xb1\\xd1\\x8a\\xd0\\xbb\\xd0\\xb3\\xd0\\xb0\\xd1\\x80\\xd1\\x81\\xd0\\xba\\xd0\\xb8</option><option value=\"ky\">\\xd0\\xba\\xd1\\x8b\\xd1\\x80\\xd0\\xb3\\xd1\\x8b\\xd0\\xb7\\xd1\\x87\\xd0\\xb0</option><option value=\"kk\">\\xd2\\x9b\\xd0\\xb0\\xd0\\xb7\\xd0\\xb0\\xd2\\x9b \\xd1\\x82\\xd1\\x96\\xd0\\xbb\\xd1\\x96</option><option value=\"mk\">\\xd0\\xbc\\xd0\\xb0\\xd0\\xba\\xd0\\xb5\\xd0\\xb4\\xd0\\xbe\\xd0\\xbd\\xd1\\x81\\xd0\\xba\\xd0\\xb8</option><option value=\"mn\">\\xd0\\xbc\\xd0\\xbe\\xd0\\xbd\\xd0\\xb3\\xd0\\xbe\\xd0\\xbb</option><option value=\"ru\">\\xd0\\xa0\\xd1\\x83\\xd1\\x81\\xd1\\x81\\xd0\\xba\\xd0\\xb8\\xd0\\xb9</option><option value=\"sr\">\\xd1\\x81\\xd1\\x80\\xd0\\xbf\\xd1\\x81\\xd0\\xba\\xd0\\xb8</option><option value=\"uk\">\\xd0\\xa3\\xd0\\xba\\xd1\\x80\\xd0\\xb0\\xd1\\x97\\xd0\\xbd\\xd1\\x81\\xd1\\x8c\\xd0\\xba\\xd0\\xb0</option><option value=\"ka\">\\xe1\\x83\\xa5\\xe1\\x83\\x90\\xe1\\x83\\xa0\\xe1\\x83\\x97\\xe1\\x83\\xa3\\xe1\\x83\\x9a\\xe1\\x83\\x98</option><option value=\"hy\">\\xd5\\xb0\\xd5\\xa1\\xd5\\xb5\\xd5\\xa5\\xd6\\x80\\xd5\\xa5\\xd5\\xb6</option><option value=\"iw\">\\xd7\\xa2\\xd7\\x91\\xd7\\xa8\\xd7\\x99\\xd7\\xaa</option><option value=\"ur\">\\xd8\\xa7\\xd8\\xb1\\xd8\\xaf\\xd9\\x88</option><option value=\"ar\">\\xd8\\xa7\\xd9\\x84\\xd8\\xb9\\xd8\\xb1\\xd8\\xa8\\xd9\\x8a\\xd8\\xa9</option><option value=\"fa\">\\xd9\\x81\\xd8\\xa7\\xd8\\xb1\\xd8\\xb3\\xdb\\x8c</option><option value=\"am\">\\xe1\\x8a\\xa0\\xe1\\x88\\x9b\\xe1\\x88\\xad\\xe1\\x8a\\x9b</option><option value=\"ne\">\\xe0\\xa4\\xa8\\xe0\\xa5\\x87\\xe0\\xa4\\xaa\\xe0\\xa4\\xbe\\xe0\\xa4\\xb2\\xe0\\xa5\\x80</option><option value=\"mr\">\\xe0\\xa4\\xae\\xe0\\xa4\\xb0\\xe0\\xa4\\xbe\\xe0\\xa4\\xa0\\xe0\\xa5\\x80</option><option value=\"hi\">\\xe0\\xa4\\xb9\\xe0\\xa4\\xbf\\xe0\\xa4\\xa8\\xe0\\xa5\\x8d\\xe0\\xa4\\xa6\\xe0\\xa5\\x80</option><option value=\"as\">\\xe0\\xa6\\x85\\xe0\\xa6\\xb8\\xe0\\xa6\\xae\\xe0\\xa7\\x80\\xe0\\xa6\\xaf\\xe0\\xa6\\xbc\\xe0\\xa6\\xbe</option><option value=\"bn\">\\xe0\\xa6\\xac\\xe0\\xa6\\xbe\\xe0\\xa6\\x82\\xe0\\xa6\\xb2\\xe0\\xa6\\xbe</option><option value=\"pa\">\\xe0\\xa8\\xaa\\xe0\\xa9\\xb0\\xe0\\xa8\\x9c\\xe0\\xa8\\xbe\\xe0\\xa8\\xac\\xe0\\xa9\\x80</option><option value=\"gu\">\\xe0\\xaa\\x97\\xe0\\xab\\x81\\xe0\\xaa\\x9c\\xe0\\xaa\\xb0\\xe0\\xaa\\xbe\\xe0\\xaa\\xa4\\xe0\\xab\\x80</option><option value=\"or\">\\xe0\\xac\\x93\\xe0\\xac\\xa1\\xe0\\xac\\xbc\\xe0\\xac\\xbf\\xe0\\xac\\x86</option><option value=\"ta\">\\xe0\\xae\\xa4\\xe0\\xae\\xae\\xe0\\xae\\xbf\\xe0\\xae\\xb4\\xe0\\xaf\\x8d</option><option value=\"te\">\\xe0\\xb0\\xa4\\xe0\\xb1\\x86\\xe0\\xb0\\xb2\\xe0\\xb1\\x81\\xe0\\xb0\\x97\\xe0\\xb1\\x81</option><option value=\"kn\">\\xe0\\xb2\\x95\\xe0\\xb2\\xa8\\xe0\\xb3\\x8d\\xe0\\xb2\\xa8\\xe0\\xb2\\xa1</option><option value=\"ml\">\\xe0\\xb4\\xae\\xe0\\xb4\\xb2\\xe0\\xb4\\xaf\\xe0\\xb4\\xbe\\xe0\\xb4\\xb3\\xe0\\xb4\\x82</option><option value=\"si\">\\xe0\\xb7\\x83\\xe0\\xb7\\x92\\xe0\\xb6\\x82\\xe0\\xb7\\x84\\xe0\\xb6\\xbd</option><option value=\"th\">\\xe0\\xb9\\x84\\xe0\\xb8\\x97\\xe0\\xb8\\xa2</option><option value=\"lo\">\\xe0\\xba\\xa5\\xe0\\xba\\xb2\\xe0\\xba\\xa7</option><option value=\"my\">\\xe1\\x80\\x99\\xe1\\x80\\xbc\\xe1\\x80\\x94\\xe1\\x80\\xba\\xe1\\x80\\x99\\xe1\\x80\\xac</option><option value=\"km\">\\xe1\\x9e\\x81\\xe1\\x9f\\x92\\xe1\\x9e\\x98\\xe1\\x9f\\x82\\xe1\\x9e\\x9a</option><option value=\"ko\">\\xed\\x95\\x9c\\xea\\xb5\\xad\\xec\\x96\\xb4</option><option value=\"ja\">\\xe6\\x97\\xa5\\xe6\\x9c\\xac\\xe8\\xaa\\x9e</option><option value=\"zh-CN\">\\xe7\\xae\\x80\\xe4\\xbd\\x93\\xe4\\xb8\\xad\\xe6\\x96\\x87</option><option value=\"zh-TW\">\\xe7\\xb9\\x81\\xe9\\xab\\x94\\xe4\\xb8\\xad\\xe6\\x96\\x87</option><option value=\"zh-HK\">\\xe7\\xb9\\x81\\xe9\\xab\\x94\\xe4\\xb8\\xad\\xe6\\x96\\x87&nbsp;(\\xe9\\xa6\\x99\\xe6\\xb8\\xaf)</option></select><input type=\"hidden\" name=\"oldhl\" value=\"lt\"><input type=\"hidden\" name=\"gl\" value=\"LT\"><input type=\"hidden\" name=\"m\" value=\"0\"><input type=\"hidden\" name=\"pc\" value=\"shp\"><input type=\"hidden\" name=\"continue\" value=\"https://www.google.com/\"><input type=\"hidden\" name=\"src\" value=\"1\"><input type=\"submit\" value=\"Kalbos keitimas\"></form><a href=\"https://policies.google.com/privacy?hl=lt&utm_source=ucb\">Privatumo politika</a> <a href=\"https://policies.google.com/terms?hl=lt&utm_source=ucb\">Paslaug\\xc5\\xb3 teikimo s\\xc4\\x85lygos</a></div></body></html>'"
      ]
     },
     "execution_count": 2,
     "metadata": {},
     "output_type": "execute_result"
    }
   ],
   "source": [
    "google = requests.get('https://google.com')\n",
    "google.content"
   ]
  },
  {
   "cell_type": "code",
   "execution_count": 75,
   "metadata": {},
   "outputs": [
    {
     "data": {
      "text/plain": [
       "200"
      ]
     },
     "execution_count": 75,
     "metadata": {},
     "output_type": "execute_result"
    }
   ],
   "source": [
    "google.status_code"
   ]
  },
  {
   "cell_type": "code",
   "execution_count": 79,
   "metadata": {},
   "outputs": [],
   "source": [
    "# Pasitikriname ar kodas yra 200. 404 b8t7 ne OK\n",
    "if google.status_code==200:\n",
    "    google_soup = BeautifulSoup(google.content, 'html.parser')\n",
    "else:\n",
    "    google_soup = google.status_code"
   ]
  },
  {
   "cell_type": "code",
   "execution_count": 80,
   "metadata": {},
   "outputs": [
    {
     "data": {
      "text/plain": [
       "'//www.gstatic.com/images/branding/googlelogo/1x/googlelogo_color_68x28dp.png'"
      ]
     },
     "execution_count": 80,
     "metadata": {},
     "output_type": "execute_result"
    }
   ],
   "source": [
    "# Bandydami žingsnis po žingsnio prisikasame prie norimo elento\n",
    "google_soup.body.select('.box')[0].select_one('img').attrs['src']"
   ]
  },
  {
   "cell_type": "code",
   "execution_count": 81,
   "metadata": {},
   "outputs": [
    {
     "data": {
      "text/plain": [
       "200"
      ]
     },
     "execution_count": 81,
     "metadata": {},
     "output_type": "execute_result"
    }
   ],
   "source": [
    "python = requests.get('https://python.org')\n",
    "python.status_code"
   ]
  },
  {
   "cell_type": "code",
   "execution_count": null,
   "metadata": {},
   "outputs": [],
   "source": [
    "pysoup = BeautifulSoup(python.content, 'html.parser')\n",
    "pysoup.body"
   ]
  },
  {
   "cell_type": "code",
   "execution_count": null,
   "metadata": {},
   "outputs": [],
   "source": [
    "pymenu = pysoup.select_one('.menu').select('li')\n",
    "pymenu"
   ]
  },
  {
   "cell_type": "code",
   "execution_count": 85,
   "metadata": {},
   "outputs": [
    {
     "name": "stdout",
     "output_type": "stream",
     "text": [
      "The Python Programming Language = Python, goes to /\n",
      "The Python Software Foundation = PSF, goes to /psf-landing/\n",
      "Python Documentation = Docs, goes to https://docs.python.org\n",
      "Python Package Index = PyPI, goes to https://pypi.org/\n",
      "Python Job Board = Jobs, goes to /jobs/\n"
     ]
    }
   ],
   "source": [
    "for item in pymenu:\n",
    "    link = item.select_one('a')\n",
    "    # print(f'{item.attrs['title']} = {link.get.text()}')\n",
    "    if 'title' in link.attrs:\n",
    "        print(link.attrs['title'], end=' = ')\n",
    "        print(link.get_text(), end=', goes to ')\n",
    "        print(link.attrs['href'])\n"
   ]
  }
 ],
 "metadata": {
  "kernelspec": {
   "display_name": "venv",
   "language": "python",
   "name": "python3"
  },
  "language_info": {
   "codemirror_mode": {
    "name": "ipython",
    "version": 3
   },
   "file_extension": ".py",
   "mimetype": "text/x-python",
   "name": "python",
   "nbconvert_exporter": "python",
   "pygments_lexer": "ipython3",
   "version": "3.10.6"
  },
  "orig_nbformat": 4,
  "vscode": {
   "interpreter": {
    "hash": "cdd9d9395a9efe4fecd14b03701bae00af48e4b838373f69d7233930cbd6e097"
   }
  }
 },
 "nbformat": 4,
 "nbformat_minor": 2
}
