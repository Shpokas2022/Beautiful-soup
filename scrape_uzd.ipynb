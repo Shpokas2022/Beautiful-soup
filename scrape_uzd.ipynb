{
 "cells": [
  {
   "cell_type": "code",
   "execution_count": 88,
   "metadata": {},
   "outputs": [],
   "source": [
    "from bs4 import BeautifulSoup\n",
    "import requests\n",
    "import random"
   ]
  },
  {
   "cell_type": "markdown",
   "metadata": {},
   "source": [
    "Parašykite programą, kuri nuskaitytų delfi antraštes, patikrintų, ar jos turi dvitaškį."
   ]
  },
  {
   "cell_type": "code",
   "execution_count": null,
   "metadata": {},
   "outputs": [],
   "source": [
    "upat = requests.get('https://ukininkopatarejas.lt/')\n",
    "upat.content\n",
    "# delfi.status_code"
   ]
  },
  {
   "cell_type": "code",
   "execution_count": 34,
   "metadata": {},
   "outputs": [],
   "source": [
    "if upat.status_code == 200:\n",
    "    upat_soup = BeautifulSoup(upat.content, 'html.parser')\n",
    "else:\n",
    "    upat_soup = upat.status_code"
   ]
  },
  {
   "cell_type": "code",
   "execution_count": 65,
   "metadata": {},
   "outputs": [
    {
     "data": {
      "text/plain": [
       "[<div class=\"antrastes_title\"><a href=\"https://ukininkopatarejas.lt/taivano-ekspertai-baige-audita-del-jautienos-eksporto/\" title=\"Taivano ekspertai baigė auditą dėl jautienos eksporto\">Taivano ekspertai baigė auditą dėl jautienos eksporto</a></div>,\n",
       " <div class=\"antrastes_title\"><a href=\"https://ukininkopatarejas.lt/via-baltica-pasienyje-su-lenkija-bus-pradeta-platinti-dar-siemet/\" title=\"„Via Baltica“ pasienyje su Lenkija bus pradėta platinti dar šiemet\">„Via Baltica“ pasienyje su Lenkija bus pradėta platinti dar šiemet</a></div>,\n",
       " <div class=\"antrastes_title\"><a href=\"https://ukininkopatarejas.lt/darzoviu-kainos-sparciai-mazeti-nelinke/\" title=\"Daržovių kainos sparčiai mažėti nelinkę\">Daržovių kainos sparčiai mažėti nelinkę</a></div>,\n",
       " <div class=\"antrastes_title\"><a href=\"https://ukininkopatarejas.lt/vandentvarkos-sektoriuje-pertvarka/\" title=\"Vandentvarkos sektoriuje – pertvarka\">Vandentvarkos sektoriuje – pertvarka</a></div>,\n",
       " <div class=\"antrastes_title\"><a href=\"https://ukininkopatarejas.lt/moliugai-smaliziams/\" title=\"Moliūgai smaližiams\">Moliūgai smaližiams</a></div>,\n",
       " <div class=\"antrastes_title\"><a href=\"https://ukininkopatarejas.lt/sultingi-visa-sezona-zaliuojantys-laiskai/\" title=\"Sultingi visą sezoną žaliuojantys laiškai\">Sultingi visą sezoną žaliuojantys laiškai</a></div>,\n",
       " <div class=\"antrastes_title\"><a href=\"https://ukininkopatarejas.lt/lietuviskos-orchidejos-prazutingas-grozis/\" title=\"Lietuviškos orchidėjos: pražūtingas grožis\">Lietuviškos orchidėjos: pražūtingas grožis</a></div>,\n",
       " <div class=\"antrastes_title\"><a href=\"https://ukininkopatarejas.lt/pomidoru-auginimas-kaip-plaukimas-upe/\" title=\"Pomidorų auginimas – kaip plaukimas upe\">Pomidorų auginimas – kaip plaukimas upe</a></div>,\n",
       " <div class=\"antrastes_title\"><a href=\"https://ukininkopatarejas.lt/paskola-issigelbejimas-ar-tiesesnis-kelias-bankrota/\" title=\"Paskola – išsigelbėjimas ar tiesesnis kelias į bankrotą?\">Paskola – išsigelbėjimas ar tiesesnis kelias į bankrotą?</a></div>,\n",
       " <div class=\"antrastes_title\"><a href=\"https://ukininkopatarejas.lt/misijas-ukrainoje-gydytojas-vadina-savo-kova-su-blogiu/\" title=\"Misijas Ukrainoje gydytojas vadina savo kova su blogiu\">Misijas Ukrainoje gydytojas vadina savo kova su blogiu</a></div>,\n",
       " <div class=\"antrastes_title\"><a href=\"https://ukininkopatarejas.lt/emocine-itampa-prie-automobilio-vairo/\" title=\"Emocinė įtampa prie automobilio vairo\">Emocinė įtampa prie automobilio vairo</a></div>,\n",
       " <div class=\"antrastes_title\"><a href=\"https://ukininkopatarejas.lt/bankrotas-ne-burtininko-lazdele-pradanginanti-skolas/\" title=\"Bankrotas – ne burtininko lazdelė, pradanginanti skolas\">Bankrotas – ne burtininko lazdelė, pradanginanti skolas</a></div>]"
      ]
     },
     "execution_count": 65,
     "metadata": {},
     "output_type": "execute_result"
    }
   ],
   "source": [
    "antraste = upat_soup.find_all(class_=\"antrastes_title\")\n",
    "# antraste = upat_soup.select(\"title\")\n",
    "antraste"
   ]
  },
  {
   "cell_type": "code",
   "execution_count": 67,
   "metadata": {},
   "outputs": [
    {
     "data": {
      "text/plain": [
       "['Taivano ekspertai baigė auditą dėl jautienos eksporto',\n",
       " '„Via Baltica“ pasienyje su Lenkija bus pradėta platinti dar šiemet',\n",
       " 'Daržovių kainos sparčiai mažėti nelinkę',\n",
       " 'Vandentvarkos sektoriuje – pertvarka',\n",
       " 'Moliūgai smaližiams',\n",
       " 'Sultingi visą sezoną žaliuojantys laiškai',\n",
       " 'Lietuviškos orchidėjos: pražūtingas grožis',\n",
       " 'Pomidorų auginimas – kaip plaukimas upe',\n",
       " 'Paskola – išsigelbėjimas ar tiesesnis kelias į bankrotą?',\n",
       " 'Misijas Ukrainoje gydytojas vadina savo kova su blogiu',\n",
       " 'Emocinė įtampa prie automobilio vairo',\n",
       " 'Bankrotas – ne burtininko lazdelė, pradanginanti skolas']"
      ]
     },
     "execution_count": 67,
     "metadata": {},
     "output_type": "execute_result"
    }
   ],
   "source": [
    "items = []\n",
    "for item in antraste:\n",
    "    items.append(item.get_text())\n",
    "items"
   ]
  },
  {
   "cell_type": "code",
   "execution_count": 94,
   "metadata": {},
   "outputs": [
    {
     "name": "stdout",
     "output_type": "stream",
     "text": [
      "Lietuviškos orchidėjos: pražūtingas grožis\n"
     ]
    }
   ],
   "source": [
    "for item in items:\n",
    "    if item.find(':')>-1:\n",
    "        print(item)\n",
    "        item1=(item)\n",
    "# print(item1)\n"
   ]
  },
  {
   "cell_type": "code",
   "execution_count": 86,
   "metadata": {},
   "outputs": [
    {
     "name": "stdout",
     "output_type": "stream",
     "text": [
      "['Lietuviškos orchidėjos']\n",
      "[' pražūtingas grožis']\n"
     ]
    }
   ],
   "source": [
    "first_part = []\n",
    "second_part = []\n",
    "splitted = item1.split(':')\n",
    "first_part.append(splitted[0])\n",
    "second_part.append(splitted[1])\n",
    "print(first_part)\n",
    "print(second_part)"
   ]
  },
  {
   "cell_type": "code",
   "execution_count": 92,
   "metadata": {},
   "outputs": [
    {
     "name": "stdout",
     "output_type": "stream",
     "text": [
      "None\n"
     ]
    }
   ],
   "source": [
    "print(random.shuffle(second_part))"
   ]
  },
  {
   "cell_type": "code",
   "execution_count": 80,
   "metadata": {},
   "outputs": [
    {
     "name": "stdout",
     "output_type": "stream",
     "text": [
      "item1 yra:  <class 'str'>\n",
      "item yra:  <class 'str'>\n",
      "items yra:  <class 'list'>\n"
     ]
    }
   ],
   "source": [
    "print(\"item1 yra: \", type(item1))\n",
    "print(\"item yra: \", type(item))\n",
    "print(\"items yra: \", type(items))\n"
   ]
  },
  {
   "cell_type": "code",
   "execution_count": 79,
   "metadata": {},
   "outputs": [
    {
     "name": "stdout",
     "output_type": "stream",
     "text": [
      "['Lietuviškos', 'orchidėjos:', 'pražūtingas', 'grožis']\n",
      "item yra:  <class 'list'>\n"
     ]
    }
   ],
   "source": [
    "split_item = item1.split()\n",
    "print(split_item)\n",
    "print(\"item yra: \", type(split_item))"
   ]
  },
  {
   "cell_type": "code",
   "execution_count": 81,
   "metadata": {},
   "outputs": [
    {
     "name": "stdout",
     "output_type": "stream",
     "text": [
      "['Lietuviškos', 'orchidėjos:'] ['pražūtingas', 'grožis']\n"
     ]
    }
   ],
   "source": [
    "half_split = len(split_item) // 2\n",
    "first_half = split_item[:half_split]\n",
    "second_half = split_item[half_split:]\n",
    "print(first_half, second_half)"
   ]
  }
 ],
 "metadata": {
  "kernelspec": {
   "display_name": "venv",
   "language": "python",
   "name": "python3"
  },
  "language_info": {
   "codemirror_mode": {
    "name": "ipython",
    "version": 3
   },
   "file_extension": ".py",
   "mimetype": "text/x-python",
   "name": "python",
   "nbconvert_exporter": "python",
   "pygments_lexer": "ipython3",
   "version": "3.10.6"
  },
  "orig_nbformat": 4,
  "vscode": {
   "interpreter": {
    "hash": "cdd9d9395a9efe4fecd14b03701bae00af48e4b838373f69d7233930cbd6e097"
   }
  }
 },
 "nbformat": 4,
 "nbformat_minor": 2
}
